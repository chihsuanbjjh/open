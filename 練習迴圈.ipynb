{
  "nbformat": 4,
  "nbformat_minor": 0,
  "metadata": {
    "colab": {
      "name": "練習迴圈",
      "provenance": [],
      "authorship_tag": "ABX9TyP0YDqisfZwy+peGZHFzTjg"
    },
    "kernelspec": {
      "name": "python3",
      "display_name": "Python 3"
    }
  },
  "cells": [
    {
      "cell_type": "code",
      "metadata": {
        "id": "wykPj36ewcVN",
        "colab_type": "code",
        "colab": {}
      },
      "source": [
        ""
      ],
      "execution_count": 0,
      "outputs": []
    },
    {
      "cell_type": "markdown",
      "metadata": {
        "id": "c5UiShB7wnaF",
        "colab_type": "text"
      },
      "source": [
        "# 迴圈\n",
        "\n",
        "\n",
        "*   執行重覆的指令\n",
        "*   for i in range(___):\n"
      ]
    },
    {
      "cell_type": "code",
      "metadata": {
        "id": "8xihRp5YwwtY",
        "colab_type": "code",
        "colab": {
          "base_uri": "https://localhost:8080/",
          "height": 34
        },
        "outputId": "941d9845-dcb9-40e5-c90a-3e7266fefdaf"
      },
      "source": [
        "# 印出a\n",
        "print(\"a\")"
      ],
      "execution_count": 1,
      "outputs": [
        {
          "output_type": "stream",
          "text": [
            "a\n"
          ],
          "name": "stdout"
        }
      ]
    },
    {
      "cell_type": "code",
      "metadata": {
        "id": "AU8idvP3xNJA",
        "colab_type": "code",
        "colab": {
          "base_uri": "https://localhost:8080/",
          "height": 193
        },
        "outputId": "7b982edb-2be5-4293-9867-23c494343795"
      },
      "source": [
        "# 印出10次a\n",
        "print(\"a\")\n",
        "print(\"a\")\n",
        "print(\"a\")\n",
        "print(\"a\")\n",
        "print(\"a\")\n",
        "print(\"a\")\n",
        "print(\"a\")\n",
        "print(\"a\")\n",
        "print(\"a\")\n",
        "print(\"a\")"
      ],
      "execution_count": 4,
      "outputs": [
        {
          "output_type": "stream",
          "text": [
            "a\n",
            "a\n",
            "a\n",
            "a\n",
            "a\n",
            "a\n",
            "a\n",
            "a\n",
            "a\n",
            "a\n"
          ],
          "name": "stdout"
        }
      ]
    },
    {
      "cell_type": "code",
      "metadata": {
        "id": "tBM3QGmlxm9w",
        "colab_type": "code",
        "colab": {}
      },
      "source": [
        "# 利用 for 迴圈執行十次印出a\n",
        "for i in range(10):\n",
        "    print(\"a\")"
      ],
      "execution_count": 0,
      "outputs": []
    },
    {
      "cell_type": "markdown",
      "metadata": {
        "id": "8YJlfdN9yBNB",
        "colab_type": "text"
      },
      "source": [
        "## 練習一"
      ]
    },
    {
      "cell_type": "code",
      "metadata": {
        "id": "zRKyVTGhyD6T",
        "colab_type": "code",
        "colab": {
          "base_uri": "https://localhost:8080/",
          "height": 105
        },
        "outputId": "fc4ae670-2ad0-429a-8c8a-052ae297e617"
      },
      "source": [
        "print(\"P\")\n",
        "print(\"P\")\n",
        "print(\"P\")\n",
        "print(\"P\")\n",
        "print(\"P\")"
      ],
      "execution_count": 7,
      "outputs": [
        {
          "output_type": "stream",
          "text": [
            "P\n",
            "P\n",
            "P\n",
            "P\n",
            "P\n"
          ],
          "name": "stdout"
        }
      ]
    },
    {
      "cell_type": "code",
      "metadata": {
        "id": "m8cVhdlFzUYo",
        "colab_type": "code",
        "colab": {}
      },
      "source": [
        "for _ in _____(_):\n",
        "    print(\"P\")"
      ],
      "execution_count": 0,
      "outputs": []
    },
    {
      "cell_type": "markdown",
      "metadata": {
        "id": "Um4LqFOVzkVH",
        "colab_type": "text"
      },
      "source": [
        "### 答案"
      ]
    },
    {
      "cell_type": "code",
      "metadata": {
        "id": "Oe0DvZUqzoQY",
        "colab_type": "code",
        "colab": {
          "base_uri": "https://localhost:8080/",
          "height": 105
        },
        "outputId": "16bb9c84-7ddd-4696-921e-f4d085b6816b"
      },
      "source": [
        "for i in range(5):\n",
        "    print(\"P\")"
      ],
      "execution_count": 8,
      "outputs": [
        {
          "output_type": "stream",
          "text": [
            "P\n",
            "P\n",
            "P\n",
            "P\n",
            "P\n"
          ],
          "name": "stdout"
        }
      ]
    },
    {
      "cell_type": "code",
      "metadata": {
        "id": "Of0jr6G0zrOl",
        "colab_type": "code",
        "colab": {}
      },
      "source": [
        ""
      ],
      "execution_count": 0,
      "outputs": []
    }
  ]
}